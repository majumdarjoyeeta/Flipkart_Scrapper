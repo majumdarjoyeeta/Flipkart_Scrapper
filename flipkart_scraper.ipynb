{
 "cells": [
  {
   "cell_type": "code",
   "execution_count": 1,
   "id": "d42aa201",
   "metadata": {},
   "outputs": [],
   "source": [
    "#import python library\n",
    "import requests\n",
    "import pandas as pd\n",
    "\n",
    "#beautifulsoup makes content pretty\n",
    "from bs4 import BeautifulSoup\n",
    "\n",
    "  \n",
    "URL1 = \"https://www.flipkart.com/mobile-phones-store?fm=neo%2Fmerchandising&iid=M_209c89a2-bb47-4666-9b14-1dcf3b244cd7_1_372UD5BXDFYS_MC.ZRQ4DKH28K8J&otracker=hp_rich_navigation_2_1.navigationCard.RICH_NAVIGATION_Mobiles_ZRQ4DKH28K8J&otracker1=hp_rich_navigation_PINNED_neo%2Fmerchandising_NA_NAV_EXPANDABLE_navigationCard_cc_2_L0_view-all&cid=ZRQ4DKH28K8J\"\n",
    "r = requests.get(URL1)\n",
    "  \n",
    "soup1 = BeautifulSoup(r.content, 'html.parser')"
   ]
  },
  {
   "cell_type": "code",
   "execution_count": 2,
   "id": "5c63e74a",
   "metadata": {},
   "outputs": [],
   "source": [
    "#get all different mobile companies\n",
    "company=soup1.find_all(\"a\",{\"class\":\"h1Fvn6\"})\n",
    "\n",
    "for i in range(len(company)):\n",
    "    company[i]=\"https://www.flipkart.com\"+(company[i]['href'])"
   ]
  },
  {
   "cell_type": "code",
   "execution_count": 3,
   "id": "08decf6f",
   "metadata": {},
   "outputs": [],
   "source": [
    "all_link=[]\n",
    "for com in company:\n",
    "    r1 = requests.get(com)\n",
    "    mobile_data = BeautifulSoup(r1.content, 'html.parser')\n",
    "    all_mobile=mobile_data.find_all(\"a\",{\"class\":\"_1fQZEK\"})\n",
    "    for i in range(len(all_mobile)):\n",
    "        all_link.append(\"https://www.flipkart.com\"+all_mobile[i]['href'])"
   ]
  },
  {
   "cell_type": "code",
   "execution_count": 5,
   "id": "b75bf90b",
   "metadata": {},
   "outputs": [],
   "source": [
    "import pandas as pd\n",
    "all_mobile_data=[]\n",
    "for i in all_link:\n",
    "    r2 = requests.get(i)\n",
    "    mobile_data = BeautifulSoup(r2.content, 'html.parser')\n",
    "    \n",
    "    #mobile name\n",
    "    mob_name=mobile_data.find(\"span\",{\"class\":\"B_NuCI\"})\n",
    "    mob_name=(mob_name.text)\n",
    "\n",
    "    #mobile price\n",
    "    mob_price=mobile_data.find(\"div\",{\"class\":\"_30jeq3 _16Jk6d\"})\n",
    "    mob_price=str(mob_price.text)\n",
    "\n",
    "    #mobile highlights\n",
    "    highlights=mobile_data.find_all(\"li\",{\"class\":\"_21Ahn-\"})\n",
    "    for i in range(len(highlights)):\n",
    "        highlights[i]=highlights[i].text\n",
    "    highlights=list(highlights)\n",
    "    mob_highlight=\"\"\n",
    "    mob_highlight=mob_highlight.join(highlights)\n",
    "    \n",
    "    #mobile images\n",
    "    mob_image=mobile_data.find_all(\"img\",{\"class\":\"q6DClP\"})\n",
    "    for i in range(len(mob_image)):\n",
    "        mob_image[i]=mob_image[i]['src']\n",
    "    mob_image=mob_image[0]\n",
    "    \n",
    "    #all mobile data stored in a list\n",
    "    all_mobile_data.append([mob_name,mob_price,mob_highlight,mob_image])"
   ]
  },
  {
   "cell_type": "code",
   "execution_count": 8,
   "id": "a132e554",
   "metadata": {},
   "outputs": [],
   "source": [
    "#store data into dataframe\n",
    "df = pd.DataFrame.from_records(all_mobile_data,columns=['Mobile_name', 'Mobile_price','Mobile_description','Mobile_image_link'])\n",
    "#store data into excel\n",
    "df.to_excel(\"C:/Users/jyoti/Downloads/flipkar/flipkart_mobiles.xlsx\") "
   ]
  },
  {
   "cell_type": "code",
   "execution_count": null,
   "id": "e2998904-81e1-48a8-8c20-8e9df32183b8",
   "metadata": {},
   "outputs": [],
   "source": []
  }
 ],
 "metadata": {
  "kernelspec": {
   "display_name": "Python 3 (ipykernel)",
   "language": "python",
   "name": "python3"
  },
  "language_info": {
   "codemirror_mode": {
    "name": "ipython",
    "version": 3
   },
   "file_extension": ".py",
   "mimetype": "text/x-python",
   "name": "python",
   "nbconvert_exporter": "python",
   "pygments_lexer": "ipython3",
   "version": "3.12.7"
  }
 },
 "nbformat": 4,
 "nbformat_minor": 5
}
